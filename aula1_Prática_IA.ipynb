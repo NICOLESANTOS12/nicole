{
  "nbformat": 4,
  "nbformat_minor": 0,
  "metadata": {
    "colab": {
      "provenance": [],
      "authorship_tag": "ABX9TyP4q7Ei8tQdEu0x/r+b1L+V",
      "include_colab_link": true
    },
    "kernelspec": {
      "name": "python3",
      "display_name": "Python 3"
    },
    "language_info": {
      "name": "python"
    }
  },
  "cells": [
    {
      "cell_type": "markdown",
      "metadata": {
        "id": "view-in-github",
        "colab_type": "text"
      },
      "source": [
        "<a href=\"https://colab.research.google.com/github/NICOLESANTOS12/nicole/blob/main/aula1_Pr%C3%A1tica_IA.ipynb\" target=\"_parent\"><img src=\"https://colab.research.google.com/assets/colab-badge.svg\" alt=\"Open In Colab\"/></a>"
      ]
    },
    {
      "cell_type": "markdown",
      "source": [
        "Nicole"
      ],
      "metadata": {
        "id": "uztBh7gFL7oO"
      }
    },
    {
      "cell_type": "markdown",
      "source": [
        "Primeiro modelo GAN de IA. é utilizado para aprendizado de máquina para gerar novos dados semelhantes a um conjunto de dados de treinamento."
      ],
      "metadata": {
        "id": "47X_vpL1CXzI"
      }
    },
    {
      "cell_type": "code",
      "execution_count": null,
      "metadata": {
        "id": "gTjdd7-nyHJO"
      },
      "outputs": [],
      "source": [
        "from typing import Generator\n",
        "#importando as bibliotecas que vou usar\n",
        "\n",
        "import tensorflow as tf\n",
        "from tensorflow.keras import layers\n",
        "\n",
        "#função para criar um gerador\n",
        "def build_generator(latent_dim, outputshape):\n",
        "model = tf.keras.sequential()\n",
        "model.add(layers.Dense(256, input_dim=latent_dim, activation='relu'))\n",
        "model.add(layers.BatchNormalization())\n",
        "model.add(layers.Dense(512, activation='relu'))\n",
        "model.add(layers.BatchNormalization())\n",
        "model.add(layers.Dense(1024, activation='relu'))\n",
        "model.add(layers.BatchNormalization())\n",
        "model.add(layers.Densey, activation='tanh')\n",
        "\n",
        " return model\n",
        "\n",
        "\n",
        " #função criar o discriminador\n",
        " def build_discriminator(input_shape):\n",
        "model = tf.keras.sequential()\n",
        "model.add(layers.Dense(1024, input_shape=(input_shape,), activation='relu'))\n",
        "model.add(layers.dropout(0.3))\n",
        "model.add(layers.Dense(512, activation='relu'))\n",
        "model.add(layers.Droupout(0.3))\n",
        "model.add(layers.Dense(256, activation='relu'))\n",
        "model.add(layers.droupout(0.3))\n",
        "model.add(layers.Dense(1, activation='sigmoid'))\n",
        "\n",
        " return model\n",
        "\n",
        "def build_gan(generator,discriminator):\n",
        "  discriminator.trainable = False\n",
        "  model = tf.keras.sequential()\n",
        "  model.add(Generator)\n",
        "  model.add(discriminator)\n",
        "  return model\n",
        "\n",
        "  #dimenções\n",
        "  latent_dim = 100\n",
        "  output_shape = 784\n",
        "\n",
        "  #criando as instãncias\n",
        "  generator = build_generator(latent_dim, output_shape)\n",
        "  discrinamitor = build_discriminator(output_shape)\n",
        "  gan = build_gan(generator, discriminator)\n",
        "\n",
        "  #generator.compile(loss='binary_crossentropy', optimizer='adam')\n",
        "  discriminator.compile(loss='binary_crossentropy', optimizer='adam', metrics=[' accuracy'])\n",
        "  gan.compile(loss='binary_crossentropy', optimizer='adam')"
      ]
    },
    {
      "cell_type": "markdown",
      "source": [
        "Este código uma vez treinado pode gerar novos dados que aparecem pertercer ao mesmo conjunto de dados que foi usado para treinamento, como imagens que assemelham a digítos manuscritos (por exemplo, MNIST)."
      ],
      "metadata": {
        "id": "cR4s1XuZDeqC"
      }
    }
  ]
}